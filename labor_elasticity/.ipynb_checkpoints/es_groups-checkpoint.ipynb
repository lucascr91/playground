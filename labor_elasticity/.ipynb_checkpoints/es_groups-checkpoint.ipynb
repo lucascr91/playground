{
 "cells": [
  {
   "cell_type": "code",
   "execution_count": 1,
   "id": "positive-guyana",
   "metadata": {},
   "outputs": [],
   "source": [
    "from sympy import *\n",
    "from sympy.abc import A,Y,K,L,n,e,x,m,k,r"
   ]
  },
  {
   "cell_type": "code",
   "execution_count": 2,
   "id": "straight-climb",
   "metadata": {},
   "outputs": [],
   "source": [
    "alpha= Symbol(r'\\alpha')"
   ]
  },
  {
   "cell_type": "code",
   "execution_count": 3,
   "id": "southern-soviet",
   "metadata": {},
   "outputs": [],
   "source": [
    "y=A*L**(alpha)*K**(1-alpha)"
   ]
  },
  {
   "cell_type": "code",
   "execution_count": 4,
   "id": "intimate-retro",
   "metadata": {},
   "outputs": [
    {
     "data": {
      "text/latex": [
       "$\\displaystyle A K^{1 - \\alpha} L^{\\alpha}$"
      ],
      "text/plain": [
       "A*K**(1 - \\alpha)*L**\\alpha"
      ]
     },
     "execution_count": 4,
     "metadata": {},
     "output_type": "execute_result"
    }
   ],
   "source": [
    "y"
   ]
  },
  {
   "cell_type": "code",
   "execution_count": 5,
   "id": "homeless-intellectual",
   "metadata": {},
   "outputs": [],
   "source": [
    "#technology parameters\n",
    "theta_e=Symbol(r'\\theta_{e}')\n",
    "theta_ex=Symbol(r'\\theta_{ex}')\n",
    "theta_exw=Symbol(r'\\theta_{exw}')\n",
    "theta_exb=Symbol(r'\\theta_{exb}')\n",
    "#labour force\n",
    "L_e=Symbol(r'L_{e}')\n",
    "L_ex=Symbol(r'L_{ex}')\n",
    "L_exb=Symbol(r'L_{exb}')\n",
    "L_exw=Symbol(r'L_{exw}')\n",
    "#elasticity of substitution education\n",
    "delta=Symbol(r'\\delta')\n",
    "#elasticity of substitution experience\n",
    "eta=Symbol(r'\\eta')\n",
    "#elasticity of substitution blacks-whites\n",
    "sigma=Symbol(r'\\sigma')"
   ]
  },
  {
   "cell_type": "code",
   "execution_count": 6,
   "id": "funky-watch",
   "metadata": {},
   "outputs": [],
   "source": [
    "delta_term=(delta-1)/delta\n",
    "eta_term=(eta-1)/eta\n",
    "sigma_term=(sigma-1)/sigma"
   ]
  },
  {
   "cell_type": "code",
   "execution_count": 7,
   "id": "industrial-techno",
   "metadata": {},
   "outputs": [
    {
     "data": {
      "text/latex": [
       "$\\displaystyle \\left(\\sum_{e=1}^{n} L_{e}^{\\frac{\\delta - 1}{\\delta}} \\theta_{e}\\right)^{\\frac{\\delta}{\\delta - 1}}$"
      ],
      "text/plain": [
       "Sum(L_{e}**((\\delta - 1)/\\delta)*\\theta_{e}, (e, 1, n))**(\\delta/(\\delta - 1))"
      ]
     },
     "execution_count": 7,
     "metadata": {},
     "output_type": "execute_result"
    }
   ],
   "source": [
    "l=pow((Sum(theta_e*pow(L_e,delta_term), (e,1,n))),pow(delta_term,-1))\n",
    "l"
   ]
  },
  {
   "cell_type": "code",
   "execution_count": 8,
   "id": "qualified-today",
   "metadata": {},
   "outputs": [
    {
     "data": {
      "text/latex": [
       "$\\displaystyle \\left(\\sum_{\\substack{1 \\leq e \\leq n\\\\1 \\leq x \\leq m}} L_{ex}^{\\frac{\\eta - 1}{\\eta}} \\theta_{ex}\\right)^{\\frac{\\eta}{\\eta - 1}}$"
      ],
      "text/plain": [
       "Sum(L_{ex}**((\\eta - 1)/\\eta)*\\theta_{ex}, (e, 1, n), (x, 1, m))**(\\eta/(\\eta - 1))"
      ]
     },
     "execution_count": 8,
     "metadata": {},
     "output_type": "execute_result"
    }
   ],
   "source": [
    "l_e=pow((Sum(theta_ex*pow(L_ex,eta_term), (e,1,n),(x,1,m))),pow(eta_term,-1))\n",
    "l_e"
   ]
  },
  {
   "cell_type": "code",
   "execution_count": 9,
   "id": "written-native",
   "metadata": {},
   "outputs": [
    {
     "data": {
      "text/latex": [
       "$\\displaystyle \\left(L_{exb}^{\\frac{\\sigma - 1}{\\sigma}} \\theta_{exb} + L_{exw}^{\\frac{\\sigma - 1}{\\sigma}} \\theta_{exw}\\right)^{\\frac{\\sigma}{\\sigma - 1}}$"
      ],
      "text/plain": [
       "(L_{exb}**((\\sigma - 1)/\\sigma)*\\theta_{exb} + L_{exw}**((\\sigma - 1)/\\sigma)*\\theta_{exw})**(\\sigma/(\\sigma - 1))"
      ]
     },
     "execution_count": 9,
     "metadata": {},
     "output_type": "execute_result"
    }
   ],
   "source": [
    "l_ex=pow(theta_exw*pow(L_exw, sigma_term)+theta_exb*pow(L_exb, sigma_term),pow(sigma_term,-1))\n",
    "l_ex"
   ]
  },
  {
   "cell_type": "code",
   "execution_count": 10,
   "id": "present-cleaner",
   "metadata": {},
   "outputs": [
    {
     "name": "stdout",
     "output_type": "stream",
     "text": [
      "\\left(L_{exb}^{\\frac{\\sigma - 1}{\\sigma}} \\theta_{exb} + L_{exw}^{\\frac{\\sigma - 1}{\\sigma}} \\theta_{exw}\\right)^{\\frac{\\sigma}{\\sigma - 1}}\n"
     ]
    }
   ],
   "source": [
    "print(latex(l_ex))"
   ]
  },
  {
   "cell_type": "code",
   "execution_count": 11,
   "id": "incident-gospel",
   "metadata": {},
   "outputs": [
    {
     "data": {
      "text/latex": [
       "$\\displaystyle \\frac{A L^{\\alpha} \\alpha \\left(A^{\\frac{1}{\\alpha}} L \\left(\\frac{1 - \\alpha}{\\delta + r}\\right)^{\\frac{1}{\\alpha}}\\right)^{1 - \\alpha}}{L}$"
      ],
      "text/plain": [
       "A*L**\\alpha*\\alpha*(A**(1/\\alpha)*L*((1 - \\alpha)/(\\delta + r))**(1/\\alpha))**(1 - \\alpha)/L"
      ]
     },
     "execution_count": 11,
     "metadata": {},
     "output_type": "execute_result"
    }
   ],
   "source": [
    "diff(y,L).subs({K:k*L}).subs({k:pow((1-alpha)/(r+delta),1/alpha)*pow(A,1/alpha)})"
   ]
  },
  {
   "cell_type": "code",
   "execution_count": 12,
   "id": "academic-nickel",
   "metadata": {},
   "outputs": [
    {
     "name": "stdout",
     "output_type": "stream",
     "text": [
      "\\frac{A L^{\\alpha} \\alpha \\left(A^{\\frac{1}{\\alpha}} L \\left(\\frac{1 - \\alpha}{\\delta + r}\\right)^{\\frac{1}{\\alpha}}\\right)^{1 - \\alpha}}{L}\n"
     ]
    }
   ],
   "source": [
    "print(latex(diff(y,L).subs({K:k*L}).subs({k:pow((1-alpha)/(r+delta),1/alpha)*pow(A,1/alpha)})))"
   ]
  },
  {
   "cell_type": "code",
   "execution_count": 13,
   "id": "wound-clinic",
   "metadata": {},
   "outputs": [
    {
     "name": "stdout",
     "output_type": "stream",
     "text": [
      "A K^{1 - \\alpha} \\left(\\left(\\sum_{e=1}^{n} \\theta_{e} \\left(\\left(\\sum_{\\substack{1 \\leq e \\leq n\\\\1 \\leq x \\leq m}} \\theta_{ex} \\left(\\left(L_{exb}^{\\frac{\\sigma - 1}{\\sigma}} \\theta_{exb} + L_{exw}^{\\frac{\\sigma - 1}{\\sigma}} \\theta_{exw}\\right)^{\\frac{\\sigma}{\\sigma - 1}}\\right)^{\\frac{\\eta - 1}{\\eta}}\\right)^{\\frac{\\eta}{\\eta - 1}}\\right)^{\\frac{\\delta - 1}{\\delta}}\\right)^{\\frac{\\delta}{\\delta - 1}}\\right)^{\\alpha}\n"
     ]
    }
   ],
   "source": [
    "print(latex(y.subs({L:l}).subs({L_e:l_e}).subs({L_ex:l_ex})))"
   ]
  },
  {
   "cell_type": "code",
   "execution_count": 14,
   "id": "clear-triumph",
   "metadata": {},
   "outputs": [
    {
     "data": {
      "text/latex": [
       "$\\displaystyle \\frac{A K^{1 - \\alpha} \\alpha \\delta \\left(\\left(\\left(\\sum_{e=1}^{n} \\theta_{e} \\left(\\left(\\sum_{\\substack{1 \\leq e \\leq n\\\\1 \\leq x \\leq m}} \\theta_{ex} \\left(\\left(L_{exb}^{\\frac{\\sigma - 1}{\\sigma}} \\theta_{exb} + L_{exw}^{\\frac{\\sigma - 1}{\\sigma}} \\theta_{exw}\\right)^{\\frac{\\sigma}{\\sigma - 1}}\\right)^{\\frac{\\eta - 1}{\\eta}}\\right)^{\\frac{\\eta}{\\eta - 1}}\\right)^{\\frac{\\delta - 1}{\\delta}}\\right)^{\\frac{\\delta}{\\delta - 1}}\\right)^{\\alpha}\\right) \\sum_{e=1}^{n} \\frac{\\eta \\theta_{e} \\left(\\delta - 1\\right) \\left(\\left(\\left(\\sum_{\\substack{1 \\leq e \\leq n\\\\1 \\leq x \\leq m}} \\theta_{ex} \\left(\\left(L_{exb}^{\\frac{\\sigma - 1}{\\sigma}} \\theta_{exb} + L_{exw}^{\\frac{\\sigma - 1}{\\sigma}} \\theta_{exw}\\right)^{\\frac{\\sigma}{\\sigma - 1}}\\right)^{\\frac{\\eta - 1}{\\eta}}\\right)^{\\frac{\\eta}{\\eta - 1}}\\right)^{\\frac{\\delta - 1}{\\delta}}\\right) \\sum_{\\substack{1 \\leq e \\leq n\\\\1 \\leq x \\leq m}} \\frac{L_{exb}^{\\frac{\\sigma - 1}{\\sigma}} \\theta_{exb} \\theta_{ex} \\left(\\eta - 1\\right) \\left(\\left(L_{exb}^{\\frac{\\sigma - 1}{\\sigma}} \\theta_{exb} + L_{exw}^{\\frac{\\sigma - 1}{\\sigma}} \\theta_{exw}\\right)^{\\frac{\\sigma}{\\sigma - 1}}\\right)^{\\frac{\\eta - 1}{\\eta}}}{L_{exb} \\eta \\left(L_{exb}^{\\frac{\\sigma - 1}{\\sigma}} \\theta_{exb} + L_{exw}^{\\frac{\\sigma - 1}{\\sigma}} \\theta_{exw}\\right)}}{\\delta \\left(\\eta - 1\\right) \\sum_{\\substack{1 \\leq e \\leq n\\\\1 \\leq x \\leq m}} \\theta_{ex} \\left(\\left(L_{exb}^{\\frac{\\sigma - 1}{\\sigma}} \\theta_{exb} + L_{exw}^{\\frac{\\sigma - 1}{\\sigma}} \\theta_{exw}\\right)^{\\frac{\\sigma}{\\sigma - 1}}\\right)^{\\frac{\\eta - 1}{\\eta}}}}{\\left(\\delta - 1\\right) \\sum_{e=1}^{n} \\theta_{e} \\left(\\left(\\sum_{\\substack{1 \\leq e \\leq n\\\\1 \\leq x \\leq m}} \\theta_{ex} \\left(\\left(L_{exb}^{\\frac{\\sigma - 1}{\\sigma}} \\theta_{exb} + L_{exw}^{\\frac{\\sigma - 1}{\\sigma}} \\theta_{exw}\\right)^{\\frac{\\sigma}{\\sigma - 1}}\\right)^{\\frac{\\eta - 1}{\\eta}}\\right)^{\\frac{\\eta}{\\eta - 1}}\\right)^{\\frac{\\delta - 1}{\\delta}}}$"
      ],
      "text/plain": [
       "A*K**(1 - \\alpha)*\\alpha*\\delta*(Sum(\\theta_{e}*(Sum(\\theta_{ex}*((L_{exb}**((\\sigma - 1)/\\sigma)*\\theta_{exb} + L_{exw}**((\\sigma - 1)/\\sigma)*\\theta_{exw})**(\\sigma/(\\sigma - 1)))**((\\eta - 1)/\\eta), (e, 1, n), (x, 1, m))**(\\eta/(\\eta - 1)))**((\\delta - 1)/\\delta), (e, 1, n))**(\\delta/(\\delta - 1)))**\\alpha*Sum(\\eta*\\theta_{e}*(\\delta - 1)*(Sum(\\theta_{ex}*((L_{exb}**((\\sigma - 1)/\\sigma)*\\theta_{exb} + L_{exw}**((\\sigma - 1)/\\sigma)*\\theta_{exw})**(\\sigma/(\\sigma - 1)))**((\\eta - 1)/\\eta), (e, 1, n), (x, 1, m))**(\\eta/(\\eta - 1)))**((\\delta - 1)/\\delta)*Sum(L_{exb}**((\\sigma - 1)/\\sigma)*\\theta_{exb}*\\theta_{ex}*(\\eta - 1)*((L_{exb}**((\\sigma - 1)/\\sigma)*\\theta_{exb} + L_{exw}**((\\sigma - 1)/\\sigma)*\\theta_{exw})**(\\sigma/(\\sigma - 1)))**((\\eta - 1)/\\eta)/(L_{exb}*\\eta*(L_{exb}**((\\sigma - 1)/\\sigma)*\\theta_{exb} + L_{exw}**((\\sigma - 1)/\\sigma)*\\theta_{exw})), (e, 1, n), (x, 1, m))/(\\delta*(\\eta - 1)*Sum(\\theta_{ex}*((L_{exb}**((\\sigma - 1)/\\sigma)*\\theta_{exb} + L_{exw}**((\\sigma - 1)/\\sigma)*\\theta_{exw})**(\\sigma/(\\sigma - 1)))**((\\eta - 1)/\\eta), (e, 1, n), (x, 1, m))), (e, 1, n))/((\\delta - 1)*Sum(\\theta_{e}*(Sum(\\theta_{ex}*((L_{exb}**((\\sigma - 1)/\\sigma)*\\theta_{exb} + L_{exw}**((\\sigma - 1)/\\sigma)*\\theta_{exw})**(\\sigma/(\\sigma - 1)))**((\\eta - 1)/\\eta), (e, 1, n), (x, 1, m))**(\\eta/(\\eta - 1)))**((\\delta - 1)/\\delta), (e, 1, n)))"
      ]
     },
     "execution_count": 14,
     "metadata": {},
     "output_type": "execute_result"
    }
   ],
   "source": [
    "expr_final=diff(y.subs({L:l}).subs({L_e:l_e}).subs({L_ex:l_ex}),L_exb)\\\n",
    ".subs({pow(pow(theta_exw*L_exw, sigma_term)+pow(theta_exb*L_exb, sigma_term),pow(sigma,-1)):L_ex})\\\n",
    ".subs({pow((Sum(pow(theta_ex*L_ex,eta_term), (e,1,n),(x,1,m))),pow(eta_term,-1)):L_e})\\\n",
    ".subs({pow((Sum(pow(theta_e*L_e,delta_term), (e,1,n))),pow(delta_term,-1)):L})\n",
    "expr_final"
   ]
  },
  {
   "cell_type": "code",
   "execution_count": 15,
   "id": "sealed-credit",
   "metadata": {},
   "outputs": [
    {
     "name": "stdout",
     "output_type": "stream",
     "text": [
      "\\frac{A K^{1 - \\alpha} \\alpha \\delta \\left(\\left(\\left(\\sum_{e=1}^{n} \\theta_{e} \\left(\\left(\\sum_{\\substack{1 \\leq e \\leq n\\\\1 \\leq x \\leq m}} \\theta_{ex} \\left(\\left(L_{exb}^{\\frac{\\sigma - 1}{\\sigma}} \\theta_{exb} + L_{exw}^{\\frac{\\sigma - 1}{\\sigma}} \\theta_{exw}\\right)^{\\frac{\\sigma}{\\sigma - 1}}\\right)^{\\frac{\\eta - 1}{\\eta}}\\right)^{\\frac{\\eta}{\\eta - 1}}\\right)^{\\frac{\\delta - 1}{\\delta}}\\right)^{\\frac{\\delta}{\\delta - 1}}\\right)^{\\alpha}\\right) \\sum_{e=1}^{n} \\frac{\\eta \\theta_{e} \\left(\\delta - 1\\right) \\left(\\left(\\left(\\sum_{\\substack{1 \\leq e \\leq n\\\\1 \\leq x \\leq m}} \\theta_{ex} \\left(\\left(L_{exb}^{\\frac{\\sigma - 1}{\\sigma}} \\theta_{exb} + L_{exw}^{\\frac{\\sigma - 1}{\\sigma}} \\theta_{exw}\\right)^{\\frac{\\sigma}{\\sigma - 1}}\\right)^{\\frac{\\eta - 1}{\\eta}}\\right)^{\\frac{\\eta}{\\eta - 1}}\\right)^{\\frac{\\delta - 1}{\\delta}}\\right) \\sum_{\\substack{1 \\leq e \\leq n\\\\1 \\leq x \\leq m}} \\frac{L_{exb}^{\\frac{\\sigma - 1}{\\sigma}} \\theta_{exb} \\theta_{ex} \\left(\\eta - 1\\right) \\left(\\left(L_{exb}^{\\frac{\\sigma - 1}{\\sigma}} \\theta_{exb} + L_{exw}^{\\frac{\\sigma - 1}{\\sigma}} \\theta_{exw}\\right)^{\\frac{\\sigma}{\\sigma - 1}}\\right)^{\\frac{\\eta - 1}{\\eta}}}{L_{exb} \\eta \\left(L_{exb}^{\\frac{\\sigma - 1}{\\sigma}} \\theta_{exb} + L_{exw}^{\\frac{\\sigma - 1}{\\sigma}} \\theta_{exw}\\right)}}{\\delta \\left(\\eta - 1\\right) \\sum_{\\substack{1 \\leq e \\leq n\\\\1 \\leq x \\leq m}} \\theta_{ex} \\left(\\left(L_{exb}^{\\frac{\\sigma - 1}{\\sigma}} \\theta_{exb} + L_{exw}^{\\frac{\\sigma - 1}{\\sigma}} \\theta_{exw}\\right)^{\\frac{\\sigma}{\\sigma - 1}}\\right)^{\\frac{\\eta - 1}{\\eta}}}}{\\left(\\delta - 1\\right) \\sum_{e=1}^{n} \\theta_{e} \\left(\\left(\\sum_{\\substack{1 \\leq e \\leq n\\\\1 \\leq x \\leq m}} \\theta_{ex} \\left(\\left(L_{exb}^{\\frac{\\sigma - 1}{\\sigma}} \\theta_{exb} + L_{exw}^{\\frac{\\sigma - 1}{\\sigma}} \\theta_{exw}\\right)^{\\frac{\\sigma}{\\sigma - 1}}\\right)^{\\frac{\\eta - 1}{\\eta}}\\right)^{\\frac{\\eta}{\\eta - 1}}\\right)^{\\frac{\\delta - 1}{\\delta}}}\n"
     ]
    }
   ],
   "source": [
    "print(latex(expr_final))"
   ]
  },
  {
   "cell_type": "code",
   "execution_count": 17,
   "id": "integrated-compatibility",
   "metadata": {},
   "outputs": [
    {
     "name": "stdout",
     "output_type": "stream",
     "text": [
      "\f",
      "rac{\\partial Y}{\\partial L_{exr}} = A^{\f",
      "rac{1}{\u0007lpha}}k^{\f",
      "rac{1-\u0007lpha}{\u0007lpha}}\big(\\sum_{e=1}^n\theta_eL_e^{\f",
      "rac{\\delta-1}{\\delta}}\big)^{\f",
      "rac{1}{\\delta-1}}\theta_eL_e^{\f",
      "rac{-1}{\\delta}}\f",
      "rac{\\partial L_e}{\\partial L_{exr}} \\overset{(*)}= \theta_e\f",
      "rac{\\partial L_e}{\\partial L_{exr}}L^{\f",
      "rac{1}{\\delta}}L_e^{\f",
      "rac{-1}{\\delta}}\n"
     ]
    }
   ],
   "source": [
    "print('\\frac{\\partial Y}{\\partial L_{exr}} = A^{\\frac{1}{\\alpha}}k^{\\frac{1-\\alpha}{\\alpha}}\\big(\\sum_{e=1}^n\\theta_eL_e^{\\frac{\\delta-1}{\\delta}}\\big)^{\\frac{1}{\\delta-1}}\\theta_eL_e^{\\frac{-1}{\\delta}}\\frac{\\partial L_e}{\\partial L_{exr}} \\overset{(*)}= \\theta_e\\frac{\\partial L_e}{\\partial L_{exr}}L^{\\frac{1}{\\delta}}L_e^{\\frac{-1}{\\delta}}')"
   ]
  },
  {
   "cell_type": "code",
   "execution_count": null,
   "id": "infectious-navigator",
   "metadata": {},
   "outputs": [],
   "source": []
  }
 ],
 "metadata": {
  "kernelspec": {
   "display_name": "Python 3",
   "language": "python",
   "name": "python3"
  },
  "language_info": {
   "codemirror_mode": {
    "name": "ipython",
    "version": 3
   },
   "file_extension": ".py",
   "mimetype": "text/x-python",
   "name": "python",
   "nbconvert_exporter": "python",
   "pygments_lexer": "ipython3",
   "version": "3.7.9"
  }
 },
 "nbformat": 4,
 "nbformat_minor": 5
}
