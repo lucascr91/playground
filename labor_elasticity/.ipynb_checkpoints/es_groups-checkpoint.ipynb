{
 "cells": [
  {
   "cell_type": "code",
   "execution_count": 30,
   "id": "positive-guyana",
   "metadata": {},
   "outputs": [],
   "source": [
    "from sympy import *\n",
    "from sympy.abc import A,Y,K,L,n,e,x,m,k,r"
   ]
  },
  {
   "cell_type": "code",
   "execution_count": 31,
   "id": "straight-climb",
   "metadata": {},
   "outputs": [],
   "source": [
    "alpha= Symbol(r'\\alpha')"
   ]
  },
  {
   "cell_type": "code",
   "execution_count": 32,
   "id": "southern-soviet",
   "metadata": {},
   "outputs": [],
   "source": [
    "y=A*L**(alpha)*K**(1-alpha)"
   ]
  },
  {
   "cell_type": "code",
   "execution_count": 33,
   "id": "intimate-retro",
   "metadata": {},
   "outputs": [
    {
     "data": {
      "text/latex": [
       "$\\displaystyle A K^{1 - \\alpha} L^{\\alpha}$"
      ],
      "text/plain": [
       "A*K**(1 - \\alpha)*L**\\alpha"
      ]
     },
     "execution_count": 33,
     "metadata": {},
     "output_type": "execute_result"
    }
   ],
   "source": [
    "y"
   ]
  },
  {
   "cell_type": "code",
   "execution_count": 34,
   "id": "homeless-intellectual",
   "metadata": {},
   "outputs": [],
   "source": [
    "#technology parameters\n",
    "theta_e=Symbol(r'\\theta_{e}')\n",
    "theta_ex=Symbol(r'\\theta_{ex}')\n",
    "theta_exw=Symbol(r'\\theta_{exw}')\n",
    "theta_exb=Symbol(r'\\theta_{exb}')\n",
    "#labour force\n",
    "L_e=Symbol(r'L_{e}')\n",
    "L_ex=Symbol(r'L_{ex}')\n",
    "L_exb=Symbol(r'L_{exb}')\n",
    "L_exw=Symbol(r'L_{exw}')\n",
    "#elasticity of substitution education\n",
    "delta=Symbol(r'\\delta')\n",
    "#elasticity of substitution experience\n",
    "eta=Symbol(r'\\eta')\n",
    "#elasticity of substitution blacks-whites\n",
    "sigma=Symbol(r'\\sigma')"
   ]
  },
  {
   "cell_type": "code",
   "execution_count": 35,
   "id": "funky-watch",
   "metadata": {},
   "outputs": [],
   "source": [
    "delta_term=(delta-1)/delta\n",
    "eta_term=(eta-1)/eta\n",
    "sigma_term=(sigma-1)/sigma"
   ]
  },
  {
   "cell_type": "code",
   "execution_count": 36,
   "id": "industrial-techno",
   "metadata": {},
   "outputs": [
    {
     "data": {
      "text/latex": [
       "$\\displaystyle \\left(\\sum_{e=1}^{n} \\left(L_{e} \\theta_{e}\\right)^{\\frac{\\delta - 1}{\\delta}}\\right)^{\\frac{\\delta}{\\delta - 1}}$"
      ],
      "text/plain": [
       "Sum((L_{e}*\\theta_{e})**((\\delta - 1)/\\delta), (e, 1, n))**(\\delta/(\\delta - 1))"
      ]
     },
     "execution_count": 36,
     "metadata": {},
     "output_type": "execute_result"
    }
   ],
   "source": [
    "l=pow((Sum(pow(theta_e*L_e,delta_term), (e,1,n))),pow(delta_term,-1))\n",
    "l"
   ]
  },
  {
   "cell_type": "code",
   "execution_count": 37,
   "id": "qualified-today",
   "metadata": {},
   "outputs": [
    {
     "data": {
      "text/latex": [
       "$\\displaystyle \\left(\\sum_{\\substack{1 \\leq e \\leq n\\\\1 \\leq x \\leq m}} \\left(L_{ex} \\theta_{ex}\\right)^{\\frac{\\eta - 1}{\\eta}}\\right)^{\\frac{\\eta}{\\eta - 1}}$"
      ],
      "text/plain": [
       "Sum((L_{ex}*\\theta_{ex})**((\\eta - 1)/\\eta), (e, 1, n), (x, 1, m))**(\\eta/(\\eta - 1))"
      ]
     },
     "execution_count": 37,
     "metadata": {},
     "output_type": "execute_result"
    }
   ],
   "source": [
    "l_e=pow((Sum(pow(theta_ex*L_ex,eta_term), (e,1,n),(x,1,m))),pow(eta_term,-1))\n",
    "l_e"
   ]
  },
  {
   "cell_type": "code",
   "execution_count": 38,
   "id": "written-native",
   "metadata": {},
   "outputs": [
    {
     "data": {
      "text/latex": [
       "$\\displaystyle \\left(\\left(L_{exb} \\theta_{exb}\\right)^{\\frac{\\sigma - 1}{\\sigma}} + \\left(L_{exw} \\theta_{exw}\\right)^{\\frac{\\sigma - 1}{\\sigma}}\\right)^{\\frac{1}{\\sigma}}$"
      ],
      "text/plain": [
       "((L_{exb}*\\theta_{exb})**((\\sigma - 1)/\\sigma) + (L_{exw}*\\theta_{exw})**((\\sigma - 1)/\\sigma))**(1/\\sigma)"
      ]
     },
     "execution_count": 38,
     "metadata": {},
     "output_type": "execute_result"
    }
   ],
   "source": [
    "l_ex=pow(pow(theta_exw*L_exw, sigma_term)+pow(theta_exb*L_exb, sigma_term),pow(sigma,-1))\n",
    "l_ex"
   ]
  },
  {
   "cell_type": "code",
   "execution_count": 45,
   "id": "acute-patent",
   "metadata": {},
   "outputs": [
    {
     "data": {
      "text/latex": [
       "$\\displaystyle \\frac{A L^{\\alpha} \\alpha \\left(A^{\\frac{1}{\\alpha}} L \\left(\\frac{1 - \\alpha}{\\delta + r}\\right)^{\\frac{1}{\\alpha}}\\right)^{1 - \\alpha}}{L}$"
      ],
      "text/plain": [
       "A*L**\\alpha*\\alpha*(A**(1/\\alpha)*L*((1 - \\alpha)/(\\delta + r))**(1/\\alpha))**(1 - \\alpha)/L"
      ]
     },
     "execution_count": 45,
     "metadata": {},
     "output_type": "execute_result"
    }
   ],
   "source": [
    "diff(y,L).subs({K:k*L}).subs({k:pow((1-alpha)/(r+delta),1/alpha)*pow(A,1/alpha)})"
   ]
  },
  {
   "cell_type": "code",
   "execution_count": 46,
   "id": "southeast-softball",
   "metadata": {},
   "outputs": [
    {
     "name": "stdout",
     "output_type": "stream",
     "text": [
      "\\frac{A L^{\\alpha} \\alpha \\left(A^{\\frac{1}{\\alpha}} L \\left(\\frac{1 - \\alpha}{\\delta + r}\\right)^{\\frac{1}{\\alpha}}\\right)^{1 - \\alpha}}{L}\n"
     ]
    }
   ],
   "source": [
    "print(latex(diff(y,L).subs({K:k*L}).subs({k:pow((1-alpha)/(r+delta),1/alpha)*pow(A,1/alpha)})))"
   ]
  },
  {
   "cell_type": "code",
   "execution_count": 73,
   "id": "severe-jason",
   "metadata": {},
   "outputs": [
    {
     "name": "stdout",
     "output_type": "stream",
     "text": [
      "A K^{1 - \\alpha} \\left(\\left(\\sum_{e=1}^{n} \\left(\\theta_{e} \\left(\\sum_{\\substack{1 \\leq e \\leq n\\\\1 \\leq x \\leq m}} \\left(\\theta_{ex} \\left(\\left(L_{exb} \\theta_{exb}\\right)^{\\frac{\\sigma - 1}{\\sigma}} + \\left(L_{exw} \\theta_{exw}\\right)^{\\frac{\\sigma - 1}{\\sigma}}\\right)^{\\frac{1}{\\sigma}}\\right)^{\\frac{\\eta - 1}{\\eta}}\\right)^{\\frac{\\eta}{\\eta - 1}}\\right)^{\\frac{\\delta - 1}{\\delta}}\\right)^{\\frac{\\delta}{\\delta - 1}}\\right)^{\\alpha}\n"
     ]
    }
   ],
   "source": [
    "print(latex(y.subs({L:l}).subs({L_e:l_e}).subs({L_ex:l_ex})))"
   ]
  },
  {
   "cell_type": "code",
   "execution_count": 66,
   "id": "economic-reporter",
   "metadata": {},
   "outputs": [
    {
     "data": {
      "text/latex": [
       "$\\displaystyle \\frac{A K^{1 - \\alpha} L^{\\alpha} \\alpha \\theta_{exb} \\left(L_{exw} \\theta_{exw}\\right)^{\\frac{1}{\\sigma}} \\left(\\sigma - 1\\right)}{\\sigma^{2} \\left(L_{exb} \\theta_{exb} \\left(L_{exw} \\theta_{exw}\\right)^{\\frac{1}{\\sigma}} + L_{exw} \\theta_{exw} \\left(L_{exb} \\theta_{exb}\\right)^{\\frac{1}{\\sigma}}\\right)}$"
      ],
      "text/plain": [
       "A*K**(1 - \\alpha)*L**\\alpha*\\alpha*\\theta_{exb}*(L_{exw}*\\theta_{exw})**(1/\\sigma)*(\\sigma - 1)/(\\sigma**2*(L_{exb}*\\theta_{exb}*(L_{exw}*\\theta_{exw})**(1/\\sigma) + L_{exw}*\\theta_{exw}*(L_{exb}*\\theta_{exb})**(1/\\sigma)))"
      ]
     },
     "execution_count": 66,
     "metadata": {},
     "output_type": "execute_result"
    }
   ],
   "source": [
    "expr_final=simplify(diff(y.subs({L:l}).subs({L_e:l_e}).subs({L_ex:l_ex}),L_exb)\\\n",
    ".subs({pow(pow(theta_exw*L_exw, sigma_term)+pow(theta_exb*L_exb, sigma_term),pow(sigma,-1)):L_ex})\\\n",
    ".subs({pow((Sum(pow(theta_ex*L_ex,eta_term), (e,1,n),(x,1,m))),pow(eta_term,-1)):L_e})\\\n",
    ".subs({pow((Sum(pow(theta_e*L_e,delta_term), (e,1,n))),pow(delta_term,-1)):L}))\n",
    "expr_final"
   ]
  },
  {
   "cell_type": "code",
   "execution_count": 67,
   "id": "spatial-conspiracy",
   "metadata": {},
   "outputs": [
    {
     "name": "stdout",
     "output_type": "stream",
     "text": [
      "\\frac{A K^{1 - \\alpha} L^{\\alpha} \\alpha \\theta_{exb} \\left(L_{exw} \\theta_{exw}\\right)^{\\frac{1}{\\sigma}} \\left(\\sigma - 1\\right)}{\\sigma^{2} \\left(L_{exb} \\theta_{exb} \\left(L_{exw} \\theta_{exw}\\right)^{\\frac{1}{\\sigma}} + L_{exw} \\theta_{exw} \\left(L_{exb} \\theta_{exb}\\right)^{\\frac{1}{\\sigma}}\\right)}\n"
     ]
    }
   ],
   "source": [
    "print(latex(expr_final))"
   ]
  },
  {
   "cell_type": "code",
   "execution_count": null,
   "id": "contrary-figure",
   "metadata": {},
   "outputs": [],
   "source": []
  }
 ],
 "metadata": {
  "kernelspec": {
   "display_name": "Python 3",
   "language": "python",
   "name": "python3"
  },
  "language_info": {
   "codemirror_mode": {
    "name": "ipython",
    "version": 3
   },
   "file_extension": ".py",
   "mimetype": "text/x-python",
   "name": "python",
   "nbconvert_exporter": "python",
   "pygments_lexer": "ipython3",
   "version": "3.7.9"
  }
 },
 "nbformat": 4,
 "nbformat_minor": 5
}
