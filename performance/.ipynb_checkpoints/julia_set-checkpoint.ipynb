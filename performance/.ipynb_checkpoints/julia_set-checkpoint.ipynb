{
 "cells": [
  {
   "cell_type": "code",
   "execution_count": 16,
   "id": "bound-texas",
   "metadata": {},
   "outputs": [],
   "source": [
    "from PIL import Image"
   ]
  },
  {
   "cell_type": "code",
   "execution_count": 17,
   "id": "fallen-tension",
   "metadata": {},
   "outputs": [],
   "source": [
    "# setting the width, height and zoom  \n",
    "# of the image to be created \n",
    "w, h, zoom = 1920,1080,1\n",
    "\n",
    "# creating the new image in RGB mode \n",
    "bitmap = Image.new(\"RGB\", (w, h), \"white\") \n",
    "\n",
    "# Allocating the storage for the image and \n",
    "# loading the pixel data. \n",
    "pix = bitmap.load() \n",
    "\n",
    "# setting up the variables according to  \n",
    "# the equation to  create the fractal \n",
    "cX, cY = -0.7, 0.27015\n",
    "moveX, moveY = 0.0, 0.0\n",
    "maxIter = 255\n",
    "\n",
    "for x in range(w): \n",
    "    for y in range(h): \n",
    "        zx = 1.5*(x - w/2)/(0.5*zoom*w) + moveX \n",
    "        zy = 1.0*(y - h/2)/(0.5*zoom*h) + moveY \n",
    "        i = maxIter \n",
    "        while zx*zx + zy*zy < 4 and i > 1: \n",
    "            tmp = zx*zx - zy*zy + cX \n",
    "            zy,zx = 2.0*zx*zy + cY, tmp \n",
    "            i -= 1\n",
    "\n",
    "        # convert byte to RGB (3 bytes), kinda  \n",
    "        # magic to get nice colors \n",
    "        pix[x,y] = (i << 21) + (i << 10) + i*8\n",
    "\n",
    "# to display the created fractal \n",
    "bitmap.show() "
   ]
  },
  {
   "cell_type": "code",
   "execution_count": null,
   "id": "spoken-washington",
   "metadata": {},
   "outputs": [],
   "source": []
  }
 ],
 "metadata": {
  "kernelspec": {
   "display_name": "Python 3",
   "language": "python",
   "name": "python3"
  },
  "language_info": {
   "codemirror_mode": {
    "name": "ipython",
    "version": 3
   },
   "file_extension": ".py",
   "mimetype": "text/x-python",
   "name": "python",
   "nbconvert_exporter": "python",
   "pygments_lexer": "ipython3",
   "version": "3.7.9"
  }
 },
 "nbformat": 4,
 "nbformat_minor": 5
}
