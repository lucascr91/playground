{
 "cells": [
  {
   "cell_type": "code",
   "execution_count": 75,
   "id": "rational-ranking",
   "metadata": {},
   "outputs": [],
   "source": [
    "from sympy import *\n",
    "from sympy.abc import t,s,a,b,r,K"
   ]
  },
  {
   "cell_type": "code",
   "execution_count": 76,
   "id": "large-midnight",
   "metadata": {},
   "outputs": [],
   "source": [
    "x=symbols('x',cls=Function)\n",
    "# x=x(t)"
   ]
  },
  {
   "cell_type": "code",
   "execution_count": 81,
   "id": "alleged-external",
   "metadata": {},
   "outputs": [
    {
     "data": {
      "text/latex": [
       "$\\displaystyle x{\\left(t \\right)} = \\frac{K r e^{r \\left(t + \\frac{\\log{\\left(\\frac{1}{K r + 1} \\right)}}{r}\\right)}}{1 - e^{r \\left(t + \\frac{\\log{\\left(\\frac{1}{K r + 1} \\right)}}{r}\\right)}}$"
      ],
      "text/plain": [
       "Eq(x(t), K*r*exp(r*(t + log(1/(K*r + 1))/r))/(1 - exp(r*(t + log(1/(K*r + 1))/r))))"
      ]
     },
     "execution_count": 81,
     "metadata": {},
     "output_type": "execute_result"
    }
   ],
   "source": [
    "result=dsolve(x(t).diff(t)-x(t)*r-(x(t)**2/K),x(t), ics = {x(0): 1})\n",
    "result"
   ]
  },
  {
   "cell_type": "code",
   "execution_count": 88,
   "id": "informal-english",
   "metadata": {},
   "outputs": [
    {
     "data": {
      "image/png": "[encoded data removed]",
      "text/plain": [
       "<Figure size 432x288 with 1 Axes>"
      ]
     },
     "metadata": {
      "needs_background": "light"
     },
     "output_type": "display_data"
    },
    {
     "data": {
      "text/plain": [
       "<sympy.plotting.plot.Plot at 0x7fa07038bc50>"
      ]
     },
     "execution_count": 88,
     "metadata": {},
     "output_type": "execute_result"
    }
   ],
   "source": [
    "plot(result.subs({K:1000,r:0.1}).rhs,(t,0,10),ylim=(-10,10))"
   ]
  },
  {
   "cell_type": "code",
   "execution_count": null,
   "id": "unnecessary-brown",
   "metadata": {},
   "outputs": [],
   "source": []
  }
 ],
 "metadata": {
  "kernelspec": {
   "display_name": "Python 3",
   "language": "python",
   "name": "python3"
  },
  "language_info": {
   "codemirror_mode": {
    "name": "ipython",
    "version": 3
   },
   "file_extension": ".py",
   "mimetype": "text/x-python",
   "name": "python",
   "nbconvert_exporter": "python",
   "pygments_lexer": "ipython3",
   "version": "3.7.9"
  }
 },
 "nbformat": 4,
 "nbformat_minor": 5
}
