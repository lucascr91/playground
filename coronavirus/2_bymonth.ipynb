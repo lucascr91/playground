{
 "cells": [
  {
   "cell_type": "code",
   "execution_count": 14,
   "id": "latest-google",
   "metadata": {},
   "outputs": [],
   "source": [
    "import pandas as pd\n",
    "import numpy as np\n",
    "import seaborn as sns\n",
    "import matplotlib.pyplot as plt\n",
    "# sns.set_style(\"whitegrid\")"
   ]
  },
  {
   "cell_type": "code",
   "execution_count": 15,
   "id": "engaging-guarantee",
   "metadata": {},
   "outputs": [],
   "source": [
    "df=pd.read_csv(\"/home/lucas/Downloads/HIST_PAINEL_COVIDBR_25fev2021.csv\", sep=';')"
   ]
  },
  {
   "cell_type": "code",
   "execution_count": 16,
   "id": "derived-mandate",
   "metadata": {},
   "outputs": [],
   "source": [
    "df['data']=pd.to_datetime(df['data'])"
   ]
  },
  {
   "cell_type": "code",
   "execution_count": 17,
   "id": "occasional-speed",
   "metadata": {},
   "outputs": [],
   "source": [
    "municipio='Natal'\n",
    "df=df[df['municipio']==municipio]"
   ]
  },
  {
   "cell_type": "code",
   "execution_count": 18,
   "id": "breeding-lawyer",
   "metadata": {},
   "outputs": [],
   "source": [
    "df['month'] = df['data'].dt.strftime('%B-%Y')"
   ]
  },
  {
   "cell_type": "code",
   "execution_count": 19,
   "id": "twenty-israeli",
   "metadata": {},
   "outputs": [],
   "source": [
    "cols=['casosNovos', 'obitosNovos']\n",
    "\n",
    "dict_cols={k:'mean' for k in cols}\n",
    "dict_cols.update({\"data\":'first'})"
   ]
  },
  {
   "cell_type": "code",
   "execution_count": 20,
   "id": "unable-perspective",
   "metadata": {},
   "outputs": [],
   "source": [
    "tab = df.groupby('month').agg(dict_cols)"
   ]
  },
  {
   "cell_type": "code",
   "execution_count": 21,
   "id": "painted-testimony",
   "metadata": {},
   "outputs": [],
   "source": [
    "tab=tab.sort_values(\"data\")"
   ]
  },
  {
   "cell_type": "code",
   "execution_count": 22,
   "id": "checked-terminology",
   "metadata": {},
   "outputs": [],
   "source": [
    "settings=[(0,'casosNovos','Casos Novos'),\n",
    "(1,'obitosNovos','Óbitos Novos')]"
   ]
  },
  {
   "cell_type": "code",
   "execution_count": 23,
   "id": "dated-medline",
   "metadata": {},
   "outputs": [
    {
     "data": {
      "image/png": "[encoded data removed]",
      "text/plain": [
       "<Figure size 1008x720 with 2 Axes>"
      ]
     },
     "metadata": {
      "needs_background": "light"
     },
     "output_type": "display_data"
    }
   ],
   "source": [
    "fig, ax=plt.subplots(1,2, figsize=(14,10))\n",
    "\n",
    "for i, tup in enumerate(settings):\n",
    "    ax[tup[0]].bar(x=tab.index,height=tab[tup[1]])\n",
    "    ax[tup[0]].spines['right'].set_visible(False)\n",
    "    ax[tup[0]].spines['top'].set_visible(False)\n",
    "    ax[tup[0]].set_title(tup[2])\n",
    "    ax[tup[0]].set_ylim(0,np.max(tab[tup[1]])+10)\n",
    "    ax[tup[0]].tick_params(axis='x', rotation=90)\n",
    "\n",
    "fig.suptitle(municipio+\"\\n (média mensal)\", fontsize=20)\n",
    "\n",
    "plt.show()"
   ]
  },
  {
   "cell_type": "code",
   "execution_count": 24,
   "id": "minus-still",
   "metadata": {},
   "outputs": [],
   "source": [
    "tab['death_case_ratio']=100*tab['obitosNovos']/tab['casosNovos']"
   ]
  },
  {
   "cell_type": "code",
   "execution_count": 25,
   "id": "right-child",
   "metadata": {},
   "outputs": [
    {
     "data": {
      "text/html": [
       "<div>\n",
       "<style scoped>\n",
       "    .dataframe tbody tr th:only-of-type {\n",
       "        vertical-align: middle;\n",
       "    }\n",
       "\n",
       "    .dataframe tbody tr th {\n",
       "        vertical-align: top;\n",
       "    }\n",
       "\n",
       "    .dataframe thead th {\n",
       "        text-align: right;\n",
       "    }\n",
       "</style>\n",
       "<table border=\"1\" class=\"dataframe\">\n",
       "  <thead>\n",
       "    <tr style=\"text-align: right;\">\n",
       "      <th></th>\n",
       "      <th>casosNovos</th>\n",
       "      <th>obitosNovos</th>\n",
       "      <th>data</th>\n",
       "      <th>death_case_ratio</th>\n",
       "    </tr>\n",
       "    <tr>\n",
       "      <th>month</th>\n",
       "      <th></th>\n",
       "      <th></th>\n",
       "      <th></th>\n",
       "      <th></th>\n",
       "    </tr>\n",
       "  </thead>\n",
       "  <tbody>\n",
       "    <tr>\n",
       "      <th>March-2020</th>\n",
       "      <td>8.400000</td>\n",
       "      <td>0.000000</td>\n",
       "      <td>2020-03-27</td>\n",
       "      <td>0.000000</td>\n",
       "    </tr>\n",
       "    <tr>\n",
       "      <th>April-2020</th>\n",
       "      <td>17.500000</td>\n",
       "      <td>0.400000</td>\n",
       "      <td>2020-04-01</td>\n",
       "      <td>2.285714</td>\n",
       "    </tr>\n",
       "    <tr>\n",
       "      <th>May-2020</th>\n",
       "      <td>75.516129</td>\n",
       "      <td>2.838710</td>\n",
       "      <td>2020-05-01</td>\n",
       "      <td>3.759077</td>\n",
       "    </tr>\n",
       "    <tr>\n",
       "      <th>June-2020</th>\n",
       "      <td>289.833333</td>\n",
       "      <td>11.400000</td>\n",
       "      <td>2020-06-01</td>\n",
       "      <td>3.933295</td>\n",
       "    </tr>\n",
       "    <tr>\n",
       "      <th>July-2020</th>\n",
       "      <td>241.838710</td>\n",
       "      <td>9.903226</td>\n",
       "      <td>2020-07-01</td>\n",
       "      <td>4.094971</td>\n",
       "    </tr>\n",
       "    <tr>\n",
       "      <th>August-2020</th>\n",
       "      <td>106.580645</td>\n",
       "      <td>6.967742</td>\n",
       "      <td>2020-08-01</td>\n",
       "      <td>6.537530</td>\n",
       "    </tr>\n",
       "    <tr>\n",
       "      <th>September-2020</th>\n",
       "      <td>55.333333</td>\n",
       "      <td>0.866667</td>\n",
       "      <td>2020-09-01</td>\n",
       "      <td>1.566265</td>\n",
       "    </tr>\n",
       "    <tr>\n",
       "      <th>October-2020</th>\n",
       "      <td>73.387097</td>\n",
       "      <td>2.709677</td>\n",
       "      <td>2020-10-01</td>\n",
       "      <td>3.692308</td>\n",
       "    </tr>\n",
       "    <tr>\n",
       "      <th>November-2020</th>\n",
       "      <td>100.533333</td>\n",
       "      <td>0.966667</td>\n",
       "      <td>2020-11-01</td>\n",
       "      <td>0.961538</td>\n",
       "    </tr>\n",
       "    <tr>\n",
       "      <th>December-2020</th>\n",
       "      <td>164.451613</td>\n",
       "      <td>3.258065</td>\n",
       "      <td>2020-12-01</td>\n",
       "      <td>1.981169</td>\n",
       "    </tr>\n",
       "    <tr>\n",
       "      <th>January-2021</th>\n",
       "      <td>150.193548</td>\n",
       "      <td>3.064516</td>\n",
       "      <td>2021-01-01</td>\n",
       "      <td>2.040378</td>\n",
       "    </tr>\n",
       "    <tr>\n",
       "      <th>February-2021</th>\n",
       "      <td>275.920000</td>\n",
       "      <td>3.680000</td>\n",
       "      <td>2021-02-01</td>\n",
       "      <td>1.333720</td>\n",
       "    </tr>\n",
       "  </tbody>\n",
       "</table>\n",
       "</div>"
      ],
      "text/plain": [
       "                casosNovos  obitosNovos       data  death_case_ratio\n",
       "month                                                               \n",
       "March-2020        8.400000     0.000000 2020-03-27          0.000000\n",
       "April-2020       17.500000     0.400000 2020-04-01          2.285714\n",
       "May-2020         75.516129     2.838710 2020-05-01          3.759077\n",
       "June-2020       289.833333    11.400000 2020-06-01          3.933295\n",
       "July-2020       241.838710     9.903226 2020-07-01          4.094971\n",
       "August-2020     106.580645     6.967742 2020-08-01          6.537530\n",
       "September-2020   55.333333     0.866667 2020-09-01          1.566265\n",
       "October-2020     73.387097     2.709677 2020-10-01          3.692308\n",
       "November-2020   100.533333     0.966667 2020-11-01          0.961538\n",
       "December-2020   164.451613     3.258065 2020-12-01          1.981169\n",
       "January-2021    150.193548     3.064516 2021-01-01          2.040378\n",
       "February-2021   275.920000     3.680000 2021-02-01          1.333720"
      ]
     },
     "execution_count": 25,
     "metadata": {},
     "output_type": "execute_result"
    }
   ],
   "source": [
    "tab"
   ]
  },
  {
   "cell_type": "code",
   "execution_count": null,
   "id": "committed-riding",
   "metadata": {},
   "outputs": [],
   "source": []
  }
 ],
 "metadata": {
  "kernelspec": {
   "display_name": "Python 3",
   "language": "python",
   "name": "python3"
  },
  "language_info": {
   "codemirror_mode": {
    "name": "ipython",
    "version": 3
   },
   "file_extension": ".py",
   "mimetype": "text/x-python",
   "name": "python",
   "nbconvert_exporter": "python",
   "pygments_lexer": "ipython3",
   "version": "3.7.9"
  }
 },
 "nbformat": 4,
 "nbformat_minor": 5
}
