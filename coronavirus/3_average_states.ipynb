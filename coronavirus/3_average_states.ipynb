{
 "cells": [
  {
   "cell_type": "code",
   "execution_count": 32,
   "id": "latest-google",
   "metadata": {},
   "outputs": [],
   "source": [
    "import pandas as pd\n",
    "import numpy as np\n",
    "import seaborn as sns\n",
    "import matplotlib.pyplot as plt\n",
    "# sns.set_style(\"whitegrid\")"
   ]
  },
  {
   "cell_type": "code",
   "execution_count": 33,
   "id": "engaging-guarantee",
   "metadata": {},
   "outputs": [],
   "source": [
    "df=pd.read_csv(\"/home/lucas/Downloads/HIST_PAINEL_COVIDBR_24fev2021.csv\", sep=';')"
   ]
  },
  {
   "cell_type": "code",
   "execution_count": 34,
   "id": "derived-mandate",
   "metadata": {},
   "outputs": [],
   "source": [
    "df['data']=pd.to_datetime(df['data'])"
   ]
  },
  {
   "cell_type": "code",
   "execution_count": 35,
   "id": "forced-federal",
   "metadata": {},
   "outputs": [],
   "source": [
    "state_pop=df.groupby(\"municipio\")[['estado','populacaoTCU2019']].first().groupby(\"estado\").sum()"
   ]
  },
  {
   "cell_type": "code",
   "execution_count": 36,
   "id": "governmental-nebraska",
   "metadata": {},
   "outputs": [],
   "source": [
    "cols=['casosNovos', 'obitosNovos']\n",
    "dict_cols={k:'sum' for k in cols}"
   ]
  },
  {
   "cell_type": "code",
   "execution_count": 47,
   "id": "simple-light",
   "metadata": {},
   "outputs": [
    {
     "data": {
      "text/html": [
       "<div>\n",
       "<style scoped>\n",
       "    .dataframe tbody tr th:only-of-type {\n",
       "        vertical-align: middle;\n",
       "    }\n",
       "\n",
       "    .dataframe tbody tr th {\n",
       "        vertical-align: top;\n",
       "    }\n",
       "\n",
       "    .dataframe thead th {\n",
       "        text-align: right;\n",
       "    }\n",
       "</style>\n",
       "<table border=\"1\" class=\"dataframe\">\n",
       "  <thead>\n",
       "    <tr style=\"text-align: right;\">\n",
       "      <th></th>\n",
       "      <th>casosNovos</th>\n",
       "      <th>obitosNovos</th>\n",
       "      <th>populacaoTCU2019</th>\n",
       "    </tr>\n",
       "    <tr>\n",
       "      <th>estado</th>\n",
       "      <th></th>\n",
       "      <th></th>\n",
       "      <th></th>\n",
       "    </tr>\n",
       "  </thead>\n",
       "  <tbody>\n",
       "    <tr>\n",
       "      <th>AC</th>\n",
       "      <td>111762</td>\n",
       "      <td>1950</td>\n",
       "      <td>881935.0</td>\n",
       "    </tr>\n",
       "    <tr>\n",
       "      <th>AL</th>\n",
       "      <td>258890</td>\n",
       "      <td>5918</td>\n",
       "      <td>3200210.0</td>\n",
       "    </tr>\n",
       "    <tr>\n",
       "      <th>AM</th>\n",
       "      <td>621838</td>\n",
       "      <td>21284</td>\n",
       "      <td>4144597.0</td>\n",
       "    </tr>\n",
       "    <tr>\n",
       "      <th>AP</th>\n",
       "      <td>165736</td>\n",
       "      <td>2262</td>\n",
       "      <td>845731.0</td>\n",
       "    </tr>\n",
       "    <tr>\n",
       "      <th>BA</th>\n",
       "      <td>1329808</td>\n",
       "      <td>22776</td>\n",
       "      <td>14388651.0</td>\n",
       "    </tr>\n",
       "    <tr>\n",
       "      <th>CE</th>\n",
       "      <td>831328</td>\n",
       "      <td>22174</td>\n",
       "      <td>9034997.0</td>\n",
       "    </tr>\n",
       "    <tr>\n",
       "      <th>DF</th>\n",
       "      <td>585428</td>\n",
       "      <td>9582</td>\n",
       "      <td>3015268.0</td>\n",
       "    </tr>\n",
       "    <tr>\n",
       "      <th>ES</th>\n",
       "      <td>643070</td>\n",
       "      <td>12674</td>\n",
       "      <td>3913800.0</td>\n",
       "    </tr>\n",
       "    <tr>\n",
       "      <th>GO</th>\n",
       "      <td>775164</td>\n",
       "      <td>16818</td>\n",
       "      <td>6704719.0</td>\n",
       "    </tr>\n",
       "    <tr>\n",
       "      <th>MA</th>\n",
       "      <td>434604</td>\n",
       "      <td>9954</td>\n",
       "      <td>7052740.0</td>\n",
       "    </tr>\n",
       "    <tr>\n",
       "      <th>MG</th>\n",
       "      <td>1706918</td>\n",
       "      <td>35948</td>\n",
       "      <td>20563893.0</td>\n",
       "    </tr>\n",
       "    <tr>\n",
       "      <th>MS</th>\n",
       "      <td>356500</td>\n",
       "      <td>6492</td>\n",
       "      <td>1780553.0</td>\n",
       "    </tr>\n",
       "    <tr>\n",
       "      <th>MT</th>\n",
       "      <td>490044</td>\n",
       "      <td>11248</td>\n",
       "      <td>3092561.0</td>\n",
       "    </tr>\n",
       "    <tr>\n",
       "      <th>PA</th>\n",
       "      <td>718578</td>\n",
       "      <td>16766</td>\n",
       "      <td>8602865.0</td>\n",
       "    </tr>\n",
       "    <tr>\n",
       "      <th>PB</th>\n",
       "      <td>431054</td>\n",
       "      <td>8840</td>\n",
       "      <td>3734381.0</td>\n",
       "    </tr>\n",
       "    <tr>\n",
       "      <th>PE</th>\n",
       "      <td>588958</td>\n",
       "      <td>21822</td>\n",
       "      <td>8937237.0</td>\n",
       "    </tr>\n",
       "    <tr>\n",
       "      <th>PI</th>\n",
       "      <td>342064</td>\n",
       "      <td>6548</td>\n",
       "      <td>3233490.0</td>\n",
       "    </tr>\n",
       "    <tr>\n",
       "      <th>PR</th>\n",
       "      <td>1255814</td>\n",
       "      <td>22716</td>\n",
       "      <td>10580569.0</td>\n",
       "    </tr>\n",
       "    <tr>\n",
       "      <th>RJ</th>\n",
       "      <td>1154366</td>\n",
       "      <td>65148</td>\n",
       "      <td>16931154.0</td>\n",
       "    </tr>\n",
       "    <tr>\n",
       "      <th>RN</th>\n",
       "      <td>324470</td>\n",
       "      <td>7078</td>\n",
       "      <td>3366270.0</td>\n",
       "    </tr>\n",
       "    <tr>\n",
       "      <th>RO</th>\n",
       "      <td>290854</td>\n",
       "      <td>5574</td>\n",
       "      <td>1777225.0</td>\n",
       "    </tr>\n",
       "    <tr>\n",
       "      <th>RR</th>\n",
       "      <td>160944</td>\n",
       "      <td>2148</td>\n",
       "      <td>605761.0</td>\n",
       "    </tr>\n",
       "    <tr>\n",
       "      <th>RS</th>\n",
       "      <td>1238770</td>\n",
       "      <td>24058</td>\n",
       "      <td>10327081.0</td>\n",
       "    </tr>\n",
       "    <tr>\n",
       "      <th>SC</th>\n",
       "      <td>1305790</td>\n",
       "      <td>14228</td>\n",
       "      <td>6865359.0</td>\n",
       "    </tr>\n",
       "    <tr>\n",
       "      <th>SE</th>\n",
       "      <td>298154</td>\n",
       "      <td>5860</td>\n",
       "      <td>2105428.0</td>\n",
       "    </tr>\n",
       "    <tr>\n",
       "      <th>SP</th>\n",
       "      <td>4005280</td>\n",
       "      <td>117056</td>\n",
       "      <td>43975917.0</td>\n",
       "    </tr>\n",
       "    <tr>\n",
       "      <th>TO</th>\n",
       "      <td>222740</td>\n",
       "      <td>2992</td>\n",
       "      <td>1563123.0</td>\n",
       "    </tr>\n",
       "  </tbody>\n",
       "</table>\n",
       "</div>"
      ],
      "text/plain": [
       "        casosNovos  obitosNovos  populacaoTCU2019\n",
       "estado                                           \n",
       "AC          111762         1950          881935.0\n",
       "AL          258890         5918         3200210.0\n",
       "AM          621838        21284         4144597.0\n",
       "AP          165736         2262          845731.0\n",
       "BA         1329808        22776        14388651.0\n",
       "CE          831328        22174         9034997.0\n",
       "DF          585428         9582         3015268.0\n",
       "ES          643070        12674         3913800.0\n",
       "GO          775164        16818         6704719.0\n",
       "MA          434604         9954         7052740.0\n",
       "MG         1706918        35948        20563893.0\n",
       "MS          356500         6492         1780553.0\n",
       "MT          490044        11248         3092561.0\n",
       "PA          718578        16766         8602865.0\n",
       "PB          431054         8840         3734381.0\n",
       "PE          588958        21822         8937237.0\n",
       "PI          342064         6548         3233490.0\n",
       "PR         1255814        22716        10580569.0\n",
       "RJ         1154366        65148        16931154.0\n",
       "RN          324470         7078         3366270.0\n",
       "RO          290854         5574         1777225.0\n",
       "RR          160944         2148          605761.0\n",
       "RS         1238770        24058        10327081.0\n",
       "SC         1305790        14228         6865359.0\n",
       "SE          298154         5860         2105428.0\n",
       "SP         4005280       117056        43975917.0\n",
       "TO          222740         2992         1563123.0"
      ]
     },
     "execution_count": 47,
     "metadata": {},
     "output_type": "execute_result"
    }
   ],
   "source": [
    "tab=df.groupby('estado').agg(dict_cols).join(state_pop)\n",
    "tab"
   ]
  },
  {
   "cell_type": "code",
   "execution_count": 49,
   "id": "secret-culture",
   "metadata": {},
   "outputs": [
    {
     "data": {
      "text/plain": [
       "102.6158437214088"
      ]
     },
     "execution_count": 49,
     "metadata": {},
     "output_type": "execute_result"
    }
   ],
   "source": [
    "1000*tab.casosNovos.sum()/tab.populacaoTCU2019.sum()"
   ]
  },
  {
   "cell_type": "code",
   "execution_count": 52,
   "id": "altered-tobacco",
   "metadata": {},
   "outputs": [],
   "source": [
    "tab['casosNovos']=1000*tab['casosNovos']/tab['populacaoTCU2019']\n",
    "tab['obitosNovos']=1000*tab['obitosNovos']/tab['populacaoTCU2019']"
   ]
  },
  {
   "cell_type": "code",
   "execution_count": 59,
   "id": "contemporary-function",
   "metadata": {},
   "outputs": [
    {
     "data": {
      "image/png": "[encoded data removed]",
      "text/plain": [
       "<Figure size 432x288 with 1 Axes>"
      ]
     },
     "metadata": {
      "needs_background": "light"
     },
     "output_type": "display_data"
    }
   ],
   "source": [
    "fig, ax = plt.subplots()\n",
    "ax=sns.regplot(x=tab['casosNovos'],y=tab['obitosNovos'])\n",
    "ax.spines['right'].set_visible(False)\n",
    "ax.spines['top'].set_visible(False)\n",
    "\n",
    "for i, txt in enumerate(tab.index):\n",
    "    ax.annotate(txt, (tab['casosNovos'][i], tab['obitosNovos'][i]))"
   ]
  },
  {
   "cell_type": "code",
   "execution_count": null,
   "id": "civilian-astrology",
   "metadata": {},
   "outputs": [],
   "source": []
  }
 ],
 "metadata": {
  "kernelspec": {
   "display_name": "Python 3",
   "language": "python",
   "name": "python3"
  },
  "language_info": {
   "codemirror_mode": {
    "name": "ipython",
    "version": 3
   },
   "file_extension": ".py",
   "mimetype": "text/x-python",
   "name": "python",
   "nbconvert_exporter": "python",
   "pygments_lexer": "ipython3",
   "version": "3.7.9"
  }
 },
 "nbformat": 4,
 "nbformat_minor": 5
}
