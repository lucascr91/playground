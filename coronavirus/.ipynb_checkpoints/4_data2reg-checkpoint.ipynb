{
 "cells": [
  {
   "cell_type": "code",
   "execution_count": 32,
   "id": "latest-google",
   "metadata": {},
   "outputs": [],
   "source": [
    "import pandas as pd\n",
    "import numpy as np\n",
    "import seaborn as sns\n",
    "import matplotlib.pyplot as plt\n",
    "# sns.set_style(\"whitegrid\")"
   ]
  },
  {
   "cell_type": "code",
   "execution_count": 33,
   "id": "engaging-guarantee",
   "metadata": {},
   "outputs": [],
   "source": [
    "df=pd.read_csv(\"/home/lucas/Downloads/HIST_PAINEL_COVIDBR_24fev2021.csv\", sep=';')"
   ]
  },
  {
   "cell_type": "code",
   "execution_count": 34,
   "id": "derived-mandate",
   "metadata": {},
   "outputs": [],
   "source": [
    "df['data']=pd.to_datetime(df['data'])"
   ]
  },
  {
   "cell_type": "code",
   "execution_count": null,
   "id": "classified-highland",
   "metadata": {},
   "outputs": [],
   "source": []
  }
 ],
 "metadata": {
  "kernelspec": {
   "display_name": "Python 3",
   "language": "python",
   "name": "python3"
  },
  "language_info": {
   "codemirror_mode": {
    "name": "ipython",
    "version": 3
   },
   "file_extension": ".py",
   "mimetype": "text/x-python",
   "name": "python",
   "nbconvert_exporter": "python",
   "pygments_lexer": "ipython3",
   "version": "3.7.9"
  }
 },
 "nbformat": 4,
 "nbformat_minor": 5
}
